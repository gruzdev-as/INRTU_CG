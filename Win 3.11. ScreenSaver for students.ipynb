{
 "cells": [
  {
   "cell_type": "markdown",
   "metadata": {},
   "source": [
    "# Win 3.11 ScreenSaver implementation\n",
    "\n",
    "In this lab, you will recreate the Windows 3.11 screen saver using Python and the pygame library.\n",
    "\n",
    "During the work you will:\n",
    "1) Set up the environment for correct operation\n",
    "2) Implement all the necessary functions so that the algorithm works at a basic level\n",
    "3) Add some “unique feature” of your choice, which will highlight your work among others and show that you really understand the principle of work\n",
    "4) Prepare the README.md file as a laboratory report and get a good grade.\n",
    "\n",
    "As mentioned above, for your convenience, the problem is decomposed into functions. After each function there are a series of checks that will tell you whether you are working in the right direction.\n",
    "\n",
    "Do not modify the code outside the specified locations. This may lead to instability and errors. Good luck!\n",
    "\n",
    "P.S. If you find any mistake - please notify me"
   ]
  },
  {
   "cell_type": "markdown",
   "metadata": {},
   "source": [
    "## Install all dependencies \n",
    "\n",
    "In this section I'd like you to create a virtual environment and install all the packages. This step is optional, but I'm sure it's a good practice to use virtual environments to work with code properly. If you have never work with them, refer to [this link](https://docs.python.org/3/library/venv.html) \n",
    "\n",
    "You can create the environment using this command \n",
    "```console\n",
    "python -m venv env\n",
    "```"
   ]
  },
  {
   "cell_type": "markdown",
   "metadata": {},
   "source": [
    "To activate the virtual environment (venv) you have to run via cmd\n",
    "\n",
    "```console\n",
    "\\venv\\Scripts\\activate\n",
    "```\n",
    "\n",
    "Then you can install all the necessary libraries from requirements.txt \n",
    "```console\n",
    "pip install -r requirements.txt\n",
    "```"
   ]
  },
  {
   "cell_type": "markdown",
   "metadata": {},
   "source": [
    "## Create the base game cycle \n",
    "\n",
    "For your animation to work, it must be created inside a special \"game loop\". Now we will try to create such a loop to check that all libraries are installed correctly and you can start working on the laboratory work. Follow the instructions in the code comments below."
   ]
  },
  {
   "cell_type": "code",
   "execution_count": null,
   "metadata": {},
   "outputs": [],
   "source": [
    "import pygame \n",
    "\n",
    "# How many pixels will the screen with your animation have. \n",
    "# Try different sizes to check how they work \n",
    "screen_width = screen_height = 1000\n",
    "\n",
    "pygame.init() # Initialize the game screen\n",
    "screen = pygame.display.set_mode((screen_width, screen_height))\n",
    "done = None # This variable will track if the \"game\" is done or not\n",
    "\n",
    "#The game cycle \n",
    "while not done:\n",
    "    for event in pygame.event.get():\n",
    "        if event.type == pygame.QUIT:\n",
    "            done = True\n",
    "\n",
    "    pygame.display.flip()\n",
    "\n",
    "pygame.quit()"
   ]
  },
  {
   "cell_type": "markdown",
   "metadata": {},
   "source": [
    "If you have seen a black screen, everything is fine then! We can move forward and try to complete the task\n",
    "\n",
    "Before we move on to writing the functions of the main program loop, we need to decide on the data structures and representation of our objects, since they must be created before the game loop begins.\n",
    "\n",
    "Our task will be as follows. Before creating a game loop, you need to ask:\n",
    "1) An object (structure) in which the created stars will be stored\n",
    "2) An object that will store information about each created star\n",
    "3) A constant that determines the maximum number of stars\n",
    "4) A constant (or not a constant, in case you want to come up with something creative) that sets the speed of the stars (that is, the change in its coordinates per animation frame)\n",
    "\n",
    "Your task is to think about which data structures are best to choose for each task and justify your choice. Follow the comments on the code block below."
   ]
  },
  {
   "cell_type": "code",
   "execution_count": null,
   "metadata": {},
   "outputs": [],
   "source": [
    "'''↓↓↓ YOUR CODE HERE ↓↓↓'''\n",
    "star_numbers = 100 # Should it be an integer or a float number? You will be able to change the decision later\n",
    "speed = 0.1 # Should it be an integer or a float number? You will be able to change the decision later\n",
    "# Each star consists of an X-coordinate, a Y-coordinate, a Z-distance (distance to the star), and a color. \n",
    "# What structure will you use to store the stars? What object will store information about the star? Tuple, list, dictionary? Justify your choices\n",
    "stars = []\n",
    "'''↑↑↑ YOUR CODE HERE ↑↑↑'''"
   ]
  },
  {
   "cell_type": "markdown",
   "metadata": {},
   "source": [
    "### Justification \n",
    "\n",
    "Using a list in our case would be beneficiary, since it allows us to access its elements using their indexes, easily edit the elements and add new ones, and to loop through them."
   ]
  },
  {
   "cell_type": "markdown",
   "metadata": {},
   "source": [
    "Great! I'm sure you did it. Now let's write a function to create a star. As we stated earlier, each star consists of an X-coordinate, a Y-coordinate, a Z-distance (distance to the star), and a color.\n",
    "\n",
    "We will use the random module so that the new star is generated at random coordinates within some starting “field”. The Z distance will always be equal to 256 (the maximum distance of the star from us). The initial color is 0, so that the brightness of the star increases as it approaches us.\n",
    "\n",
    "When writing a function, you need to know that the center of coordinates in pygame is in the top left corner of the window, so be sure to take this fact into account when creating the star. For convenience, our “reduced” coordinate center will be placed at the center of the screen, that is, the coordinates should have coordinates in the intervals \n",
    "\n",
    "(- screen width // 2 : + screen width // 2, - screen height // 2: + screen height // 2)"
   ]
  },
  {
   "cell_type": "code",
   "execution_count": 3,
   "metadata": {
    "ExecuteTime": {
     "end_time": "2024-03-18T18:41:16.442276Z",
     "start_time": "2024-03-18T18:41:16.435313Z"
    }
   },
   "outputs": [],
   "source": [
    "import random\n",
    "\n",
    "def new_star() -> list:\n",
    "    \n",
    "    '''↓↓↓ YOUR CODE HERE ↓↓↓'''\n",
    "    star = [\n",
    "        random.randint(-(screen_width // 2), screen_width // 2),\n",
    "        random.randint(-(screen_height // 2), screen_height // 2),\n",
    "        256,\n",
    "        0\n",
    "    ]\n",
    "    '''↑↑↑ YOUR CODE HERE ↑↑↑'''\n",
    "    \n",
    "    return star"
   ]
  },
  {
   "cell_type": "markdown",
   "metadata": {},
   "source": [
    "Let's generate some starts and see whether they are OK or not"
   ]
  },
  {
   "cell_type": "code",
   "execution_count": 4,
   "metadata": {
    "ExecuteTime": {
     "end_time": "2024-03-18T18:41:18.700193Z",
     "start_time": "2024-03-18T18:41:18.691964Z"
    }
   },
   "outputs": [
    {
     "name": "stdout",
     "output_type": "stream",
     "text": [
      "Seems fine, good job!\n"
     ]
    }
   ],
   "source": [
    "# Tests. Run for check the function \n",
    "\n",
    "for i in range(100):\n",
    "    star_sample = new_star()\n",
    "    assert len(star_sample) == 4, 'The star is defined by 4 numbers'\n",
    "    assert -(screen_width // 2) <= star_sample[0] <= screen_width // 2, 'coordinates should have coordinates in the intervals (- screen width: + screen width, - screen height, + screen height)'\n",
    "    assert -(screen_height // 2) <= star_sample[1] <= screen_height // 2 , 'coordinates should have coordinates in the intervals (- screen width: + screen width, - screen height, + screen height)'\n",
    "    assert star_sample[2] == 256, 'Z coordinate has to be equal 256'\n",
    "    assert star_sample[3] == 0, 'Start color has to be equal to 0'\n",
    "print('Seems fine, good job!')"
   ]
  },
  {
   "cell_type": "markdown",
   "metadata": {},
   "source": [
    "Now let's implement the movement and verification mechanism. We need to calculate its x and y coordinates for each star at each step in accordance with the perspective (z coordinate).\n",
    "We can do this as discussed in lecture using the following formulas:\n",
    "$$X_s = \\frac{X*256}{Z} + X_c$$\n",
    "$$Y_s = \\frac{X*256}{Z} + Y_c$$\n",
    "\n",
    "$X_s$, $Y_s$ - Coordinate on screen \n",
    "\n",
    "$X_c$, $Y_c$ - Coordinate of the center of the screen \n",
    "\n",
    "Then we have to check if the star has gone off the screen. If this happens, we will remove this star from our list and generate a new star instead."
   ]
  },
  {
   "cell_type": "code",
   "execution_count": 5,
   "metadata": {
    "ExecuteTime": {
     "end_time": "2024-03-18T18:41:23.052713Z",
     "start_time": "2024-03-18T18:41:23.038228Z"
    }
   },
   "outputs": [],
   "source": [
    "def move_and_check(star:list) -> list:\n",
    "    \n",
    "    '''↓↓↓ YOUR CODE HERE ↓↓↓'''\n",
    "    x = (star[0] * 256 // (star[2] + 1)) + screen_width // 2\n",
    "    y = (star[1] * 256 // (star[2] + 1)) + screen_height // 2\n",
    "\n",
    "    star[2] -= speed #Change Z coordinate\n",
    "\n",
    "    # If the coordinates go beyond the screen, we generate a new star.\n",
    "    if x > screen_width or y > screen_height or x < 0 or y < 0 or 0 >= star[2]:\n",
    "        star = new_star()\n",
    "    \n",
    "    # If the color has not reached maximum brightness, increase the color.\n",
    "    if star[3] < 256:\n",
    "        star[3] += 0.15\n",
    "    \n",
    "    #  If suddenly the color becomes more than acceptable, then set it to 255\n",
    "    if star[3] > 256:\n",
    "        star[3] = 255\n",
    "    \n",
    "    '''↑↑↑ YOUR CODE HERE ↑↑↑'''\n",
    "    return star"
   ]
  },
  {
   "cell_type": "markdown",
   "metadata": {},
   "source": [
    "To check that everything works as expected, I simulate a test run. If we don't get any errors during the run, then your code is written correctly (very likely)"
   ]
  },
  {
   "cell_type": "code",
   "execution_count": 6,
   "metadata": {
    "ExecuteTime": {
     "end_time": "2024-03-18T18:41:25.722285Z",
     "start_time": "2024-03-18T18:41:25.583048Z"
    }
   },
   "outputs": [
    {
     "name": "stdout",
     "output_type": "stream",
     "text": [
      "Seems good!\n"
     ]
    }
   ],
   "source": [
    "stars = [new_star() for _ in range(50)]\n",
    "for i in range(1000):\n",
    "    for star in stars:\n",
    "        move_and_check(star)\n",
    "print('Seems good!')"
   ]
  },
  {
   "cell_type": "markdown",
   "metadata": {},
   "source": [
    "We are very close to implementing the basic algorithm. Now all that is needed is to build a loop within which our functions will be called and draw the stars on the screen. Let's implement a draw_star function that will display a star on the screen. The main thing is not to forget to make the reverse transition from our selected coordinate system to the window coordinate system."
   ]
  },
  {
   "cell_type": "code",
   "execution_count": 7,
   "metadata": {
    "ExecuteTime": {
     "end_time": "2024-03-18T18:41:28.659595Z",
     "start_time": "2024-03-18T18:41:28.653220Z"
    }
   },
   "outputs": [],
   "source": [
    "def draw_star(star:list) -> None:\n",
    "    '''↓↓↓ YOUR CODE HERE ↓↓↓'''\n",
    "    x = (star[0] * 256 // (star[2] + 1)) + screen_width // 2\n",
    "    y = (star[1] * 256 // (star[2] + 1)) + screen_width // 2\n",
    "    '''↑↑↑ YOUR CODE HERE ↑↑↑'''\n",
    "    pygame.draw.circle(screen, (star[3], star[3], star[3]), (x, y), random.randint(0, 4)) #stars flicker due to random radius changes"
   ]
  },
  {
   "cell_type": "markdown",
   "metadata": {},
   "source": [
    "Let's check how your code works using a working example. Below you need to insert functions in the right places to check that your program works exactly as planned. Follow the comments in the code, we are building the entire program from scratch!"
   ]
  },
  {
   "cell_type": "code",
   "execution_count": 8,
   "metadata": {
    "ExecuteTime": {
     "end_time": "2024-03-18T18:41:35.736844Z",
     "start_time": "2024-03-18T18:41:30.680983Z"
    }
   },
   "outputs": [],
   "source": [
    "import pygame\n",
    "import random\n",
    "\n",
    "'''↓↓↓ YOUR CODE HERE ↓↓↓'''\n",
    "screen_width = screen_height = 1000\n",
    "'''↑↑↑ YOUR CODE HERE ↑↑↑'''\n",
    "\n",
    "pygame.init()\n",
    "screen = pygame.display.set_mode((screen_width, screen_height))\n",
    "done = False\n",
    "\n",
    "'''↓↓↓ YOUR CODE HERE ↓↓↓'''\n",
    "number_of_stars = 100\n",
    "speed =\t0.15\t\t\n",
    "stars = []\n",
    "'''↑↑↑ YOUR CODE HERE ↑↑↑'''\n",
    "\n",
    "for i in range(0, number_of_stars):\t\t\n",
    "    stars.append(new_star())\n",
    "\n",
    "while not done:\n",
    "    for event in pygame.event.get():\n",
    "        if event.type == pygame.QUIT:\n",
    "            done = True\n",
    "\n",
    "    screen.fill((0, 0, 0))  \n",
    "\n",
    "    for i in range(0, number_of_stars):\t\t\n",
    "        s = stars[i]\t\t\t    \t\t\n",
    "        \n",
    "        '''↓↓↓ YOUR CODE HERE ↓↓↓'''\n",
    "        s = move_and_check(s)\n",
    "        '''↑↑↑ YOUR CODE HERE ↑↑↑'''\n",
    "        \n",
    "        stars[i] = s\n",
    "        \n",
    "        '''↓↓↓ YOUR CODE HERE ↓↓↓'''\n",
    "        draw_star(stars[i])\n",
    "        '''↑↑↑ YOUR CODE HERE ↑↑↑'''\n",
    "    \n",
    "    pygame.display.flip()\n",
    "pygame.quit()"
   ]
  },
  {
   "cell_type": "markdown",
   "metadata": {},
   "source": [
    "Finally! You are breathtaking (of course, if you managed to implement everything correctly. But even if you didn't manage to implement it, don’t be upset, you will definitely succeed)!\n",
    "\n",
    "Now you need to try to implement some cool killer feature to add some \"zest\" to your work. Afterward, do not forget to fill out the README.md file and submit your work for verification in the agreed manner."
   ]
  },
  {
   "cell_type": "markdown",
   "metadata": {},
   "source": []
  }
 ],
 "metadata": {
  "kernelspec": {
   "display_name": "env",
   "language": "python",
   "name": "python3"
  },
  "language_info": {
   "codemirror_mode": {
    "name": "ipython",
    "version": 3
   },
   "file_extension": ".py",
   "mimetype": "text/x-python",
   "name": "python",
   "nbconvert_exporter": "python",
   "pygments_lexer": "ipython3",
   "version": "3.10.6"
  }
 },
 "nbformat": 4,
 "nbformat_minor": 2
}
